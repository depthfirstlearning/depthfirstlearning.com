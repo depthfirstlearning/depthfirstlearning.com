{
 "cells": [
  {
   "cell_type": "markdown",
   "metadata": {
    "colab_type": "text",
    "id": "ITZuApL56Mny"
   },
   "source": [
    "This notebook demonstrates how to generate images of handwritten digits using [tf.keras](https://www.tensorflow.org/programmers_guide/keras) and [eager execution](https://www.tensorflow.org/programmers_guide/eager).\n",
    "\n",
    "It was orginally made for DCGANs and has been repurposed to show the difference between saturating and non-saturating loss functions for basic GANs.\n",
    "\n",
    "This model takes about ~15-25 seconds per epoch (using tf.contrib.eager.defun to create graph functions) to train on a single Tesla K80 on Colab, as of July 2018.\n",
    "\n",
    "Below is the output generated after training the (original DCGAN) generator and discriminator models for 150 epochs.\n",
    "\n",
    "![sample output](https://tensorflow.org/images/gan/dcgan.gif)"
   ]
  },
  {
   "cell_type": "code",
   "execution_count": 0,
   "metadata": {
    "colab": {
     "base_uri": "https://localhost:8080/",
     "height": 225
    },
    "colab_type": "code",
    "id": "u_2z-B3piVsw",
    "outputId": "387b711c-38bc-4715-fb47-340cf4c8cf4b"
   },
   "outputs": [
    {
     "name": "stdout",
     "output_type": "stream",
     "text": [
      "Collecting imageio\n",
      "\u001b[?25l  Downloading https://files.pythonhosted.org/packages/28/b4/cbb592964dfd71a9de6a5b08f882fd334fb99ae09ddc82081dbb2f718c81/imageio-2.4.1.tar.gz (3.3MB)\n",
      "\u001b[K    100% |████████████████████████████████| 3.3MB 8.9MB/s \n",
      "\u001b[?25hRequirement already satisfied: numpy in /usr/local/lib/python3.6/dist-packages (from imageio) (1.14.6)\n",
      "Requirement already satisfied: pillow in /usr/local/lib/python3.6/dist-packages (from imageio) (4.0.0)\n",
      "Requirement already satisfied: olefile in /usr/local/lib/python3.6/dist-packages (from pillow->imageio) (0.46)\n",
      "Building wheels for collected packages: imageio\n",
      "  Running setup.py bdist_wheel for imageio ... \u001b[?25l-\b \b\\\b \b|\b \b/\b \bdone\n",
      "\u001b[?25h  Stored in directory: /root/.cache/pip/wheels/e0/43/31/605de9372ceaf657f152d3d5e82f42cf265d81db8bbe63cde1\n",
      "Successfully built imageio\n",
      "Installing collected packages: imageio\n",
      "Successfully installed imageio-2.4.1\n"
     ]
    }
   ],
   "source": [
    "# to generate gifs\n",
    "!pip install imageio"
   ]
  },
  {
   "cell_type": "markdown",
   "metadata": {
    "colab_type": "text",
    "id": "e1_Y75QXJS6h"
   },
   "source": [
    "## Import TensorFlow and enable eager execution"
   ]
  },
  {
   "cell_type": "code",
   "execution_count": 0,
   "metadata": {
    "colab": {
     "base_uri": "https://localhost:8080/",
     "height": 34
    },
    "colab_type": "code",
    "id": "YfIk2es3hJEd",
    "outputId": "f5238cf8-a476-4a3a-b115-0e7ad555c43b"
   },
   "outputs": [
    {
     "name": "stderr",
     "output_type": "stream",
     "text": [
      "Using TensorFlow backend.\n"
     ]
    }
   ],
   "source": [
    "from __future__ import absolute_import, division, print_function\n",
    "\n",
    "# Import TensorFlow >= 1.10 and enable eager execution\n",
    "import tensorflow as tf\n",
    "tf.enable_eager_execution()\n",
    "from keras import initializers\n",
    "\n",
    "import os\n",
    "import time\n",
    "import numpy as np\n",
    "import glob\n",
    "import matplotlib.pyplot as plt\n",
    "import PIL\n",
    "import imageio\n",
    "from IPython import display"
   ]
  },
  {
   "cell_type": "markdown",
   "metadata": {
    "colab_type": "text",
    "id": "iYn4MdZnKCey"
   },
   "source": [
    "## Load the dataset\n",
    "\n",
    "We are going to use the MNIST dataset to train the generator and the discriminator. The generator will then generate handwritten digits."
   ]
  },
  {
   "cell_type": "code",
   "execution_count": 0,
   "metadata": {
    "colab": {},
    "colab_type": "code",
    "id": "a4fYMGxGhrna"
   },
   "outputs": [],
   "source": [
    "(train_images, train_labels), (_, _) = tf.keras.datasets.mnist.load_data()"
   ]
  },
  {
   "cell_type": "code",
   "execution_count": 0,
   "metadata": {
    "colab": {},
    "colab_type": "code",
    "id": "NFC2ghIdiZYE"
   },
   "outputs": [],
   "source": [
    "train_images = train_images.reshape(train_images.shape[0], 784).astype('float32')\n",
    "# We are normalizing the images to the range of [-1, 1]\n",
    "train_images = (train_images - 127.5) / 127.5"
   ]
  },
  {
   "cell_type": "code",
   "execution_count": 0,
   "metadata": {
    "colab": {},
    "colab_type": "code",
    "id": "S4PIDhoDLbsZ"
   },
   "outputs": [],
   "source": [
    "BUFFER_SIZE = 60000\n",
    "BATCH_SIZE = 256\n",
    "NOISE_DIM = 100"
   ]
  },
  {
   "cell_type": "markdown",
   "metadata": {
    "colab_type": "text",
    "id": "PIGN6ouoQxt3"
   },
   "source": [
    "## Use tf.data to create batches and shuffle the dataset"
   ]
  },
  {
   "cell_type": "code",
   "execution_count": 0,
   "metadata": {
    "colab": {},
    "colab_type": "code",
    "id": "-yKCCQOoJ7cn"
   },
   "outputs": [],
   "source": [
    "train_dataset = tf.data.Dataset.from_tensor_slices(train_images).shuffle(BUFFER_SIZE).batch(BATCH_SIZE)"
   ]
  },
  {
   "cell_type": "markdown",
   "metadata": {},
   "source": [
    "Stuff [Max](github.com/maxisawesome) wrote"
   ]
  },
  {
   "cell_type": "markdown",
   "metadata": {
    "colab_type": "text",
    "id": "THY-sZMiQ4UV"
   },
   "source": [
    "## Write the generator and discriminator models\n",
    "\n",
    "* **Generator** \n",
    "  * It is responsible for **creating convincing images that fool the discriminator**.\n",
    "  * We're just demonstrating the loss functions, so the GAN is a pretty simple neural network consisting of only fully connected layers. \n",
    "    * As such, we've reshaped the (28, 28) image into a (784) vector to fit the first fullly connected layer.\n",
    "  * We use **leaky relu** activation except for the **last layer** which uses **tanh** activation. \n",
    "    * We use leaky relu because it gives good results. We use tanh because it give outputs between -1 and 1.\n",
    "  \n",
    "* **Discriminator**\n",
    "  * **The discriminator is responsible for classifying the fake images from the real images.**\n",
    "  * In other words, the discriminator is given generated images (from the generator) and the real MNIST images. The job of the discriminator is to classify these images into fake (generated) and real (MNIST images).\n",
    "  * The discriminator is also constructed of only fully connected layers. It aditionally uses dropout to help with generalization. \n",
    "    * Note that while while the layers of our generator and discriminators are mirrored (Generator: 100-->128-->256-->512-->784, Discriminator:  784-->512-->256-->128-->1), this is not a requirement in GANs.\n",
    "  * **The generator should be good enough to fool the discriminator that the generated images are real**."
   ]
  },
  {
   "cell_type": "code",
   "execution_count": 0,
   "metadata": {
    "colab": {},
    "colab_type": "code",
    "id": "VGLbvBEmjK0a"
   },
   "outputs": [],
   "source": [
    "class Generator(tf.keras.Model):\n",
    "  def __init__(self):\n",
    "    super(Generator, self).__init__()\n",
    "    self.fc1 = tf.keras.layers.Dense(128, input_dim=NOISE_DIM)\n",
    "    self.fc2 = tf.keras.layers.Dense(256)\n",
    "    self.fc3 = tf.keras.layers.Dense(512)\n",
    "    self.out = tf.keras.layers.Dense(784)\n",
    "    \n",
    "    \n",
    "  def call(self, x, training=True):\n",
    "    x = tf.nn.relu(self.fc1(x))\n",
    "    x = tf.nn.relu(self.fc2(x))\n",
    "    x = tf.nn.relu(self.fc3(x))\n",
    "    x = tf.nn.tanh(self.out(x))\n",
    "      \n",
    "    return x"
   ]
  },
  {
   "cell_type": "code",
   "execution_count": 0,
   "metadata": {
    "colab": {},
    "colab_type": "code",
    "id": "bkOfJxk5j5Hi"
   },
   "outputs": [],
   "source": [
    "class Discriminator(tf.keras.Model):\n",
    "  def __init__(self):\n",
    "    super(Discriminator, self).__init__()\n",
    "    self.fc1 = tf.keras.layers.Dense(512, input_shape=(784,))\n",
    "    self.fc2 = tf.keras.layers.Dense(256)\n",
    "    self.fc3 = tf.keras.layers.Dense(128)\n",
    "    self.out = tf.keras.layers.Dense(1)\n",
    "    self.dropout = tf.keras.layers.Dropout(0.3)\n",
    "\n",
    "  def call(self, x, training=True):\n",
    "    x = tf.nn.leaky_relu(self.fc1(x))\n",
    "    x = self.dropout(x, training=training)\n",
    "    x = tf.nn.leaky_relu(self.fc2(x))\n",
    "    x = self.dropout(x, training=training)\n",
    "    x = tf.nn.leaky_relu(self.fc3(x))\n",
    "    x = self.dropout(x, training=training)\n",
    "    x = tf.nn.sigmoid(self.out(x))\n",
    "    return x"
   ]
  },
  {
   "cell_type": "code",
   "execution_count": 0,
   "metadata": {
    "colab": {},
    "colab_type": "code",
    "id": "k1HpMSLImuRi"
   },
   "outputs": [],
   "source": [
    "# Defun gives 10 secs/epoch performance boost\n",
    "generator.call = tf.contrib.eager.defun(generator.call)\n",
    "discriminator.call = tf.contrib.eager.defun(discriminator.call)"
   ]
  },
  {
   "cell_type": "markdown",
   "metadata": {
    "colab_type": "text",
    "id": "0FMYgY_mPfTi"
   },
   "source": [
    "## Define the loss functions and the optimizer\n",
    "Let's review some of the orginal GAN paper's section on GAN losses. \"D\" refers to the Discriminator network, \"G\" refers to the generator network, \"z\" is a vector of noise, and \"x\" in a real image:\n",
    "\n",
    ">We train D to maximize the probability of assigning the correct label to both training examples and samples from G. We simultaneously train G to minimize $\\log(1 − D(G(z)))$. In other words, D and G play the following two-player minimax game with value function $V (G, D)$:\n",
    "\n",
    ">> $\\begin{equation}\n",
    "\\min_G \\max_D V(D, G)= \\mathbb{E}_{x\\sim p_{data}(x)}[\\log D(x)]+ \\mathbb{E}_{z\\sim p_z(z)}[\\log(1 - D(G(z)))]\n",
    "\\end{equation}$\n",
    " \n",
    ">In practice,  the previous equation may not provide sufficient gradient for G to learn well. Early in learning, when G is poor, D can reject samples with high confidence because they are clearly different from the training data. In this case, $\\log(1 − D(G(z)))$ saturates. Rather than training G to minimize $\\log(1 − D(G(z)))$ we can train G to maximize $\\log D(G(z))$. This objective function results in the same fixed point of the dynamics of G and D but provides much stronger gradients early in learning.\n",
    "\n",
    "Great, we have a definition of our overal goal in a GAN (the long equation), and definitions of the loss function for G. The next page of the paper defines the explicit loss functions over batches. D(x) returns its probability that x is a real image. Intuitively, if x is a real image and z is a noise vector, we want D(x) to be high and D(G(z)) to be low.\n",
    "\n",
    "We update the discriminator by ascending its stochastic gradient:\n",
    "$\\begin{equation}\n",
    "\\nabla_{\\mathbf\\theta_d} \\frac{1}{m}\\sum\\limits_{i=1}^m [\\log(D(x^{(i)}))-log(1-D(G(z^{(i)})))]\n",
    "\\end{equation}$\n",
    "\n",
    "We update the generator by descending its stochastic gradient:\n",
    "$\\begin{equation}\n",
    "\\nabla_{\\mathbf\\theta_g} \\frac{1}{m}\\sum\\limits_{i=1}^m \\log(1-D(G(z^{(i)})))\n",
    "\\end{equation}$\n",
    "\n",
    "In these equations, $m$ is the size of the minibatch. Thus, there is a minibatch of $m$ noise samples from the noise prior as well as $m$ examples from the training distribution. We ascend the discriminator's gradient and descend the generator's gradient in a way that is consistent with the minimax game defined before.  \n",
    "\n",
    "* **Discriminator loss**\n",
    "  * The discriminator loss function takes 2 inputs; **real_output, generated_output**\n",
    "    * They are both outputs of the _discriminator_, and thus probability vectors. The first are the probabilities for a batch of real images being real, and the second are the probabilities a batch of fake images are real. \n",
    "  * Then the total_loss is the sum of real_loss and the generated_loss.\n",
    "  * Tensorflow makes it easy to use batches - just pass the whole batch of probabilities into the tf.log function and use tf.reduce_mean.\n",
    "  \n",
    "* **Generator loss**\n",
    "  * The generator has two options of loss function. They are named s_loss and ns_loss for saturating and non-saturating. \n",
    "    * In the non-saturating loss, we are no longer _minimizing_ a function, but _maximizing_ it instead. Tensorflow always tries to minimize things, and as such we return the negative of the value we want to maximize, becuase minimizing the negative of the value is the same as maximizing the positive of it.  \n",
    "    \n",
    "  "
   ]
  },
  {
   "cell_type": "code",
   "execution_count": 0,
   "metadata": {
    "colab": {},
    "colab_type": "code",
    "id": "wkMNfBWlT-PV"
   },
   "outputs": [],
   "source": [
    "def discriminator_loss(real_output, generated_output):\n",
    "    return -tf.reduce_mean(tf.log(real_output) + tf.log(1-generated_output))"
   ]
  },
  {
   "cell_type": "code",
   "execution_count": 0,
   "metadata": {
    "colab": {},
    "colab_type": "code",
    "id": "90BIcCKcDMxz"
   },
   "outputs": [],
   "source": [
    "def ns_generator_loss(generated_output):\n",
    "    return -tf.reduce_mean(tf.log(generated_output))"
   ]
  },
  {
   "cell_type": "code",
   "execution_count": 4,
   "metadata": {
    "colab": {},
    "colab_type": "code",
    "id": "gfxatvsVV5LA"
   },
   "outputs": [],
   "source": [
    "# While the saturating loss appears in the orginal GAN paper, it is no longer used in practice.\n",
    "# It is included for completeness.\n",
    "def s_generator_loss(generated_output):\n",
    "    return tf.reduce_mean(1-tf.log(generated_output))"
   ]
  },
  {
   "cell_type": "markdown",
   "metadata": {
    "colab_type": "text",
    "id": "qwkZT995_y6K"
   },
   "source": [
    "When looking at graphs of the losses, if the ranges of values don't make sense, check the graph of the log function for help."
   ]
  },
  {
   "cell_type": "code",
   "execution_count": 0,
   "metadata": {
    "colab": {},
    "colab_type": "code",
    "id": "Niip0y_OuDMR"
   },
   "outputs": [],
   "source": [
    "def plot_losses(dLosses, gLosses):\n",
    "    plt.figure(figsize=(10, 8))\n",
    "    plt.plot(dLosses, label='Discriminitive loss')\n",
    "    plt.plot(gLosses, label='Generative loss')\n",
    "    plt.xlabel('Batch')\n",
    "    plt.ylabel('Loss')\n",
    "    plt.legend()\n",
    "    plt.show"
   ]
  },
  {
   "cell_type": "markdown",
   "metadata": {},
   "source": [
    "End of mostly what [Max](github.com/maxisawesome) wrote"
   ]
  },
  {
   "cell_type": "code",
   "execution_count": 0,
   "metadata": {
    "colab": {},
    "colab_type": "code",
    "id": "iWCn_PVdEJZ7"
   },
   "outputs": [],
   "source": [
    "discriminator_optimizer = tf.train.AdamOptimizer(1e-4)\n",
    "generator_optimizer = tf.train.AdamOptimizer(1e-4)"
   ]
  },
  {
   "cell_type": "markdown",
   "metadata": {
    "colab_type": "text",
    "id": "mWtinsGDPJlV"
   },
   "source": [
    "## Checkpoints (Object-based saving)"
   ]
  },
  {
   "cell_type": "code",
   "execution_count": 0,
   "metadata": {
    "colab": {},
    "colab_type": "code",
    "id": "CA1w-7s2POEy"
   },
   "outputs": [],
   "source": [
    "checkpoint_dir = './training_checkpoints'\n",
    "checkpoint_prefix = os.path.join(checkpoint_dir, \"ckpt\")\n",
    "checkpoint = tf.train.Checkpoint(generator_optimizer=generator_optimizer,\n",
    "                                 discriminator_optimizer=discriminator_optimizer,\n",
    "                                 generator=generator,\n",
    "                                 discriminator=discriminator)"
   ]
  },
  {
   "cell_type": "markdown",
   "metadata": {
    "colab_type": "text",
    "id": "Rw1fkAczTQYh"
   },
   "source": [
    "## Training\n",
    "\n",
    "* We start by iterating over the dataset\n",
    "* The generator is given **noise as an input** which when passed through the generator model will output a image looking like a handwritten digit\n",
    "* The discriminator is given the **real MNIST images as well as the generated images (from the generator)**.\n",
    "* Next, we calculate the generator and the discriminator loss.\n",
    "* Then, we calculate the gradients of loss with respect to both the generator and the discriminator variables (inputs) and apply those to the optimizer.\n",
    "* 50 Epochs will get us number-esque images, but 100 will result in much better pictures (but will take twice as long).\n",
    "\n",
    "## Generate Images\n",
    "\n",
    "* After training, its time to generate some images!\n",
    "* We start by creating noise array as an input to the generator\n",
    "* The generator will then convert the noise into handwritten images.\n",
    "* Last step is to plot the predictions and **voila!**"
   ]
  },
  {
   "cell_type": "code",
   "execution_count": 0,
   "metadata": {
    "colab": {},
    "colab_type": "code",
    "id": "NS2GWywBbAWo"
   },
   "outputs": [],
   "source": [
    "EPOCHS = 100\n",
    "num_examples_to_generate = 16\n",
    "\n",
    "# keeping the random vector constant for generation (prediction) so\n",
    "# it will be easier to see the improvement of the gan.\n",
    "random_vector_for_generation = tf.random_normal([num_examples_to_generate,\n",
    "                                                 NOISE_DIM])"
   ]
  },
  {
   "cell_type": "code",
   "execution_count": 1,
   "metadata": {
    "colab": {},
    "colab_type": "code",
    "id": "RmdVsmvhPxyy"
   },
   "outputs": [],
   "source": [
    "def generate_and_save_images(model, epoch, test_input, loss):\n",
    "  # make sure the training parameter is set to False because we aren't training\n",
    "  predictions = model(test_input, training=False)\n",
    "\n",
    "  fig = plt.figure(figsize=(4,4))\n",
    "  for i in range(predictions.shape[0]):\n",
    "      plt.subplot(4, 4, i+1)\n",
    "      plt.imshow(tf.reshape(predictions[i], [28, 28]) * 127.5 + 127.5, cmap='gray')\n",
    "      plt.axis('off')\n",
    "        \n",
    "  plt.savefig(loss+'_image_at_epoch_{:04d}.png'.format(epoch))\n",
    "  plt.show()"
   ]
  },
  {
   "cell_type": "code",
   "execution_count": 0,
   "metadata": {
    "colab": {},
    "colab_type": "code",
    "id": "2M7LmLtGEMQJ"
   },
   "outputs": [],
   "source": [
    "def train(dataset, epochs, noise_dim, s_loss=False): \n",
    "  d_losses = []\n",
    "  g_losses = []\n",
    "  loss_name = 's_loss' if s_loss else 'ns_loss'\n",
    "\n",
    "  for epoch in range(epochs):\n",
    "    start = time.time()\n",
    "  \n",
    "    for images in dataset:\n",
    "      # generating noise from a uniform distribution\n",
    "      # we use image.shape[0] and not BATCH_SIZE because the final batch is smaller \n",
    "      #   60000/256 is not an integer, so our last batch is smaller than 256.\n",
    "      noise = tf.random_normal([images.shape[0], noise_dim])\n",
    "      \n",
    "      with tf.GradientTape() as gen_tape, tf.GradientTape() as disc_tape:\n",
    "        # Run data or noise through the network\n",
    "        generated_images = generator(noise, training=True)\n",
    "        real_output = discriminator(images, training=True)\n",
    "        generated_output = discriminator(generated_images, training=True)\n",
    "        \n",
    "        # Get losses\n",
    "        if s_loss:\n",
    "          gen_loss = s_generator_loss(generated_output)\n",
    "        else:\n",
    "          gen_loss = ns_generator_loss(generated_output)\n",
    "        disc_loss = discriminator_loss(real_output, generated_output)\n",
    "        \n",
    "        # Save the losses to plot them later\n",
    "        g_losses.append(gen_loss)\n",
    "        d_losses.append(disc_loss)\n",
    "        \n",
    "      gradients_of_generator = gen_tape.gradient(gen_loss, generator.variables)\n",
    "      gradients_of_discriminator = disc_tape.gradient(disc_loss, discriminator.variables)\n",
    "      \n",
    "      generator_optimizer.apply_gradients(zip(gradients_of_generator, generator.variables))\n",
    "      discriminator_optimizer.apply_gradients(zip(gradients_of_discriminator, discriminator.variables))\n",
    "\n",
    "      \n",
    "    if epoch % 1 == 0:\n",
    "      # next line is handy line to make the output of the cell update cleanly\n",
    "      display.clear_output(wait=True)\n",
    "      generate_and_save_images(generator,\n",
    "                               epoch + 1,\n",
    "                               random_vector_for_generation,\n",
    "                               loss_name)\n",
    "      plot_losses(d_losses, g_losses)\n",
    "      print ('Time taken for epoch {} is {} sec'.format(epoch + 1,\n",
    "                                                      time.time()-start))\n",
    "    \n",
    "      min_til_done = ((time.time()-start)*(EPOCHS-epoch+1))/60\n",
    "      print ('Approx min until completion %.2f min'%(min_til_done))\n",
    "    \n",
    "    # saving (checkpoint) the model every 15 epochs\n",
    "    if (epoch + 1) % 15 == 0:\n",
    "      checkpoint.save(file_prefix = checkpoint_prefix)\n",
    "    \n",
    "\n",
    "    \n",
    "  # generating after the final epoch\n",
    "  display.clear_output(wait=True)\n",
    "  generate_and_save_images(generator,\n",
    "                           epochs,\n",
    "                           random_vector_for_generation,\n",
    "                           loss_name)\n",
    "  print(\"Done! %d epochs completed in %.2f minutes.\" %(EPOCHS, (time.time()-start)/60)"
   ]
  },
  {
   "cell_type": "code",
   "execution_count": 0,
   "metadata": {
    "colab": {
     "base_uri": "https://localhost:8080/",
     "height": 748
    },
    "colab_type": "code",
    "id": "Ly3UN0SLLY2l",
    "outputId": "a0eac942-22d0-45f8-d456-2d697757b11f"
   },
   "outputs": [
    {
     "data": {
      "image/png": "[encoded data removed]",
      "text/plain": [
       "<matplotlib.figure.Figure at 0x7fa300e11be0>"
      ]
     },
     "metadata": {
      "tags": []
     },
     "output_type": "display_data"
    },
    {
     "data": {
      "image/png": "[encoded data removed]",
      "text/plain": [
       "<matplotlib.figure.Figure at 0x7fa2ff4ed278>"
      ]
     },
     "metadata": {
      "tags": []
     },
     "output_type": "display_data"
    }
   ],
   "source": [
    "generator = Generator()\n",
    "discriminator = Discriminator()\n",
    "train(train_dataset, EPOCHS, NOISE_DIM, s_loss=False)"
   ]
  },
  {
   "cell_type": "code",
   "execution_count": 0,
   "metadata": {
    "colab": {
     "base_uri": "https://localhost:8080/",
     "height": 748
    },
    "colab_type": "code",
    "id": "y88JN4ZPpTx9",
    "outputId": "8c2b5be9-7b67-47d0-af74-8d9036a0caa3"
   },
   "outputs": [
    {
     "data": {
      "image/png": "[encoded data removed]",
      "text/plain": [
       "<matplotlib.figure.Figure at 0x7fa2fd8f8390>"
      ]
     },
     "metadata": {
      "tags": []
     },
     "output_type": "display_data"
    },
    {
     "data": {
      "image/png": "[encoded data removed]",
      "text/plain": [
       "<matplotlib.figure.Figure at 0x7fa2fd507390>"
      ]
     },
     "metadata": {
      "tags": []
     },
     "output_type": "display_data"
    }
   ],
   "source": [
    "generator = Generator()\n",
    "discriminator = Discriminator()\n",
    "train(train_dataset, EPOCHS, NOISE_DIM, s_loss=True)"
   ]
  },
  {
   "cell_type": "code",
   "execution_count": 0,
   "metadata": {
    "colab": {},
    "colab_type": "code",
    "id": "XhXsd0srPo8c"
   },
   "outputs": [],
   "source": [
    "# restoring the latest checkpoint in checkpoint_dir\n",
    "checkpoint.restore(tf.train.latest_checkpoint(checkpoint_dir))"
   ]
  },
  {
   "cell_type": "markdown",
   "metadata": {
    "colab_type": "text",
    "id": "P4M_vIbUi7c0"
   },
   "source": [
    "## Display an image using the epoch number"
   ]
  },
  {
   "cell_type": "code",
   "execution_count": 0,
   "metadata": {
    "colab": {},
    "colab_type": "code",
    "id": "WfO5wCdclHGL"
   },
   "outputs": [],
   "source": [
    "def display_image(epoch_no, loss):\n",
    "    return PIL.Image.open(loss+'_image_at_epoch_{:04d}.png'.format(epoch_no))"
   ]
  },
  {
   "cell_type": "code",
   "execution_count": 0,
   "metadata": {
    "colab": {},
    "colab_type": "code",
    "id": "5x3q9_Oe5q0A"
   },
   "outputs": [],
   "source": [
    "display_image(EPOCHS)"
   ]
  },
  {
   "cell_type": "markdown",
   "metadata": {
    "colab_type": "text",
    "id": "NywiH3nL8guF"
   },
   "source": [
    "## Generate a GIF of all the saved images."
   ]
  },
  {
   "cell_type": "code",
   "execution_count": 3,
   "metadata": {
    "colab": {
     "base_uri": "https://localhost:8080/",
     "height": 34
    },
    "colab_type": "code",
    "id": "IGKQgENQ8lEI",
    "outputId": "eb8d0c49-2ec8-4d16-add7-bfa303017dbe"
   },
   "outputs": [
    {
     "ename": "NameError",
     "evalue": "name 'imageio' is not defined",
     "output_type": "error",
     "traceback": [
      "\u001b[0;31m---------------------------------------------------------------------------\u001b[0m",
      "\u001b[0;31mNameError\u001b[0m                                 Traceback (most recent call last)",
      "\u001b[0;32m<ipython-input-3-620b9a2d3514>\u001b[0m in \u001b[0;36m<module>\u001b[0;34m()\u001b[0m\n\u001b[1;32m      3\u001b[0m \u001b[0;31m#loss = \"s_loss\"\u001b[0m\u001b[0;34m\u001b[0m\u001b[0;34m\u001b[0m\u001b[0m\n\u001b[1;32m      4\u001b[0m \u001b[0mSPEED\u001b[0m \u001b[0;34m=\u001b[0m \u001b[0;36m2\u001b[0m\u001b[0;34m\u001b[0m\u001b[0m\n\u001b[0;32m----> 5\u001b[0;31m \u001b[0;32mwith\u001b[0m \u001b[0mimageio\u001b[0m\u001b[0;34m.\u001b[0m\u001b[0mget_writer\u001b[0m\u001b[0;34m(\u001b[0m\u001b[0;34m'gan.gif'\u001b[0m\u001b[0;34m,\u001b[0m \u001b[0mmode\u001b[0m\u001b[0;34m=\u001b[0m\u001b[0;34m'I'\u001b[0m\u001b[0;34m)\u001b[0m \u001b[0;32mas\u001b[0m \u001b[0mwriter\u001b[0m\u001b[0;34m:\u001b[0m\u001b[0;34m\u001b[0m\u001b[0m\n\u001b[0m\u001b[1;32m      6\u001b[0m   \u001b[0mfilenames\u001b[0m \u001b[0;34m=\u001b[0m \u001b[0mglob\u001b[0m\u001b[0;34m.\u001b[0m\u001b[0mglob\u001b[0m\u001b[0;34m(\u001b[0m\u001b[0mloss\u001b[0m\u001b[0;34m+\u001b[0m\u001b[0;34m'_image*.png'\u001b[0m\u001b[0;34m)\u001b[0m\u001b[0;34m\u001b[0m\u001b[0m\n\u001b[1;32m      7\u001b[0m   \u001b[0mfilenames\u001b[0m \u001b[0;34m=\u001b[0m \u001b[0msorted\u001b[0m\u001b[0;34m(\u001b[0m\u001b[0mfilenames\u001b[0m\u001b[0;34m)\u001b[0m\u001b[0;34m\u001b[0m\u001b[0m\n",
      "\u001b[0;31mNameError\u001b[0m: name 'imageio' is not defined"
     ]
    }
   ],
   "source": [
    "# controls how fast the gif moves through the generated pictures\n",
    "loss = \"ns_loss\"\n",
    "#loss = \"s_loss\"\n",
    "SPEED = 2\n",
    "with imageio.get_writer('gan.gif', mode='I') as writer:\n",
    "  filenames = glob.glob(loss+'_image*.png')\n",
    "  filenames = sorted(filenames)\n",
    "  last = -1\n",
    "  for i,filename in enumerate(filenames):\n",
    "    frame = 2*(i**0.5)\n",
    "    if round(frame) > round(last):\n",
    "      last = frame\n",
    "    else:\n",
    "      continue\n",
    "    image = imageio.imread(filename)\n",
    "    writer.append_data(image)\n",
    "    image = imageio.imread(filename)\n",
    "    writer.append_data(image)\n",
    "    \n",
    "# this is a hack to display the gif inside the notebook\n",
    "os.system('cp gan.gif gan.gif.png')"
   ]
  },
  {
   "cell_type": "code",
   "execution_count": 0,
   "metadata": {
    "colab": {
     "base_uri": "https://localhost:8080/",
     "height": 41
    },
    "colab_type": "code",
    "id": "uV0yiKpzNP1b",
    "outputId": "f18b0e46-37af-4616-bf6a-21b535defa74"
   },
   "outputs": [
    {
     "data": {
      "image/png": "Ow==\n",
      "text/plain": [
       "<IPython.core.display.Image object>"
      ]
     },
     "execution_count": 7,
     "metadata": {
      "tags": []
     },
     "output_type": "execute_result"
    }
   ],
   "source": [
    "display.Image(filename=\"gan.gif.png\")"
   ]
  },
  {
   "cell_type": "markdown",
   "metadata": {
    "colab_type": "text",
    "id": "6EEG-wePkmJQ"
   },
   "source": [
    "To downlod the animation from Colab uncomment the code below:"
   ]
  },
  {
   "cell_type": "code",
   "execution_count": 0,
   "metadata": {
    "colab": {},
    "colab_type": "code",
    "id": "4UJjSnIMOzOJ"
   },
   "outputs": [],
   "source": [
    "#from google.colab import files\n",
    "#files.download('dcgan.gif')"
   ]
  }
 ],
 "metadata": {
  "accelerator": "GPU",
  "colab": {
   "collapsed_sections": [],
   "name": "Saturating vs Non-Saturating Loss functions in GANs on MNIST",
   "provenance": [],
   "version": "0.3.2"
  },
  "kernelspec": {
   "display_name": "Python 3",
   "language": "python",
   "name": "python3"
  },
  "language_info": {
   "codemirror_mode": {
    "name": "ipython",
    "version": 3
   },
   "file_extension": ".py",
   "mimetype": "text/x-python",
   "name": "python",
   "nbconvert_exporter": "python",
   "pygments_lexer": "ipython3",
   "version": "3.6.5"
  }
 },
 "nbformat": 4,
 "nbformat_minor": 1
}
